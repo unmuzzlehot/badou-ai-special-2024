{
 "cells": [
  {
   "cell_type": "code",
   "execution_count": null,
   "metadata": {},
   "outputs": [],
   "source": [
    "import numpy as np\n",
    "import cv2\n",
    "import matplotlib.pyplot as plt\n",
    "\n",
    "while True:\n",
    "#读取图像选择方法\n",
    "    choice = input(\"请选择读取图像方法（1-灰度模式，2-彩色模式，3-原始通道):\")\n",
    "#读取图像\n",
    "    if choice == \"1\":\n",
    "        image=cv2.imread(\"1.jpg\", 0) #cv2.IMREAD_GRAYSCALE 灰度化读取\n",
    "        break\n",
    "    elif choice == \"2\":\n",
    "        image=cv2.imread(\"1.jpg\", 1)# cv2.IMREAD_COLOR 读取彩色化\n",
    "        #BGR2RGB转化\n",
    "        image=cv2.cvtColor(image,cv2.COLOR_BGR2RGB)\n",
    "        break\n",
    "    elif choice == \"3\":\n",
    "        image=cv2.imread(\"1.jpg\", -1)#cv2.IMREAD_UNCHANGED 读取原始通道\n",
    "        image= cv2.cvtColor(image,cv2.COLOR_BGR2GRAY)#转为灰度化图像\n",
    "        break\n",
    "    else:\n",
    "        print(\"无效选择！\")\n",
    "\n",
    "\n",
    "#图像浮点化处理\n",
    "image_float= image.astype(np.float32)/255.0\n",
    "\n",
    "#图像二值化处理\n",
    "#第四个参数是阈值化类型，它可以接受以下几个枚举值：\n",
    "#cv2.THRESH_BINARY：二值化，大于阈值的像素值设置为指定值，小于等于阈值的像素值设置为另一个指定值。\n",
    "#cv2.THRESH_BINARY_INV：反向二值化，与cv2.THRESH_BINARY相反，大于阈值的像素值设置为另一个指定值，小于等于阈值的像素值设置为指定值。\n",
    "#cv2.THRESH_TRUNC：截断，大于阈值的像素值设置为阈值，小于等于阈值的像素值保持不变。\n",
    "#cv2.THRESH_TOZERO：取零，大于阈值的像素值保持不变，小于等于阈值的像素值设置为零。\n",
    "#cv2.THRESH_TOZERO_INV：反向取零，与cv2.THRESH_TOZERO相反，大于阈值的像素值设置为零，小于等于阈值的像素值保持不变。\n",
    "_,binary_image=cv2.threshold(image_float,0.5,1,cv2.THRESH_BINARY)\n",
    "\n",
    "#显示二值化图像\n",
    "plt.imshow(binary_image,cmap=\"gray\")#绘图展示\n",
    "plt.axis(\"off\")#坐标轴显示范围\n",
    "plt.show()\n",
    "\n",
    "\n"
   ]
  },
  {
   "cell_type": "code",
   "execution_count": null,
   "metadata": {},
   "outputs": [],
   "source": [
    "#邻近插值法\n",
    "def function(image):\n",
    "    height,width,channels=image.shape\n",
    "    emptyImage=np.zeros((800,800,channels))\n",
    "    sh=800/height\n",
    "    sw=800/width\n",
    "    for i in range(800):\n",
    "        for j in range(800):\n",
    "            x=int(i/sh+0.5)\n",
    "            y=int(j/sw+0.5)\n",
    "            emptyImage[i,j]=image[x,y]\n",
    "    return emptyImage\n",
    "image=cv2.imread(\"1.png\")    \n",
    "zoom=function(image)    \n",
    "print(zoom)\n",
    "print(zoom.shape)\n",
    "cv2.imshow(\"imterp\",zoom)\n",
    "cv2.imshow(\"image\",image)   \n",
    "cv2.waitKey(0)"
   ]
  }
 ],
 "metadata": {
  "kernelspec": {
   "display_name": "base",
   "language": "python",
   "name": "python3"
  },
  "language_info": {
   "codemirror_mode": {
    "name": "ipython",
    "version": 3
   },
   "file_extension": ".py",
   "mimetype": "text/x-python",
   "name": "python",
   "nbconvert_exporter": "python",
   "pygments_lexer": "ipython3",
   "version": "3.11.5"
  }
 },
 "nbformat": 4,
 "nbformat_minor": 2
}
